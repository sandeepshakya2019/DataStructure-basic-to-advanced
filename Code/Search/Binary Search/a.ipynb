{
 "cells": [
  {
   "cell_type": "code",
   "execution_count": 3,
   "id": "fc1d2610",
   "metadata": {},
   "outputs": [
    {
     "name": "stdout",
     "output_type": "stream",
     "text": [
      "end 2 4\n",
      "end 5 13\n",
      "end 14 40\n",
      "14\n"
     ]
    }
   ],
   "source": [
    "def FindElemInINfiniteSortedArray(arr, target):\n",
    "    start = 0\n",
    "    end = 1\n",
    "\n",
    "    while(True):\n",
    "        while(start <= end):\n",
    "            mid = start + int((end - start) / 2)\n",
    "            if(arr[mid] == target): return mid\n",
    "            if arr[mid] > target: end = mid - 1\n",
    "            else: start = mid + 1\n",
    "        \n",
    "        start = end + 1\n",
    "        end = 2 * end + start\n",
    "        print(\"end\", start, end)\n",
    "\n",
    "\n",
    "arr = [1,2,3,4,5,6,7,8,9,10,11,12,13,14,15,16,17,18,19,20,21,22,23,24,25,26,27,28,29,30,31,32,33,34,35,36,37,38,39,40,41]\n",
    "\n",
    "print(FindElemInINfiniteSortedArray(arr, 15))\n"
   ]
  },
  {
   "cell_type": "code",
   "execution_count": null,
   "id": "f4ea3761",
   "metadata": {},
   "outputs": [],
   "source": []
  }
 ],
 "metadata": {
  "kernelspec": {
   "display_name": "base",
   "language": "python",
   "name": "python3"
  },
  "language_info": {
   "codemirror_mode": {
    "name": "ipython",
    "version": 3
   },
   "file_extension": ".py",
   "mimetype": "text/x-python",
   "name": "python",
   "nbconvert_exporter": "python",
   "pygments_lexer": "ipython3",
   "version": "3.12.4"
  }
 },
 "nbformat": 4,
 "nbformat_minor": 5
}
